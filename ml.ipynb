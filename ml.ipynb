{
 "cells": [
  {
   "cell_type": "code",
   "execution_count": 11,
   "metadata": {},
   "outputs": [],
   "source": [
    "import pandas as pd\n",
    "from IPython.display import display\n",
    "pd.options.display.max_columns = 30\n",
    "from sklearn.model_selection import train_test_split\n",
    "from sklearn import svm\n",
    "import numpy as np # linear algebra\n",
    "import matplotlib.pyplot as plt\n",
    "from sklearn.preprocessing import StandardScaler\n",
    "from sklearn import preprocessing"
   ]
  },
  {
   "cell_type": "code",
   "execution_count": 12,
   "metadata": {},
   "outputs": [
    {
     "name": "stdout",
     "output_type": "stream",
     "text": [
      "1000\n"
     ]
    },
    {
     "data": {
      "text/html": [
       "<div>\n",
       "<style scoped>\n",
       "    .dataframe tbody tr th:only-of-type {\n",
       "        vertical-align: middle;\n",
       "    }\n",
       "\n",
       "    .dataframe tbody tr th {\n",
       "        vertical-align: top;\n",
       "    }\n",
       "\n",
       "    .dataframe thead th {\n",
       "        text-align: right;\n",
       "    }\n",
       "</style>\n",
       "<table border=\"1\" class=\"dataframe\">\n",
       "  <thead>\n",
       "    <tr style=\"text-align: right;\">\n",
       "      <th></th>\n",
       "      <th>Chr1A-B1-Hap1</th>\n",
       "      <th>Chr1A-B1-Hap2</th>\n",
       "      <th>Chr1A-B1-Hap3</th>\n",
       "      <th>Chr1A-B1-Hap4</th>\n",
       "      <th>Chr1A-B1-Hap5</th>\n",
       "      <th>Chr1A-B1-Hap6</th>\n",
       "      <th>Chr1A-B1-Hap7</th>\n",
       "      <th>Chr1A-B2-Hap1</th>\n",
       "      <th>Chr1A-B2-Hap2</th>\n",
       "      <th>Chr1A-B2-Hap3</th>\n",
       "      <th>Chr1A-B2-Hap4</th>\n",
       "      <th>Chr1A-B3-Hap1</th>\n",
       "      <th>Chr1A-B3-Hap2</th>\n",
       "      <th>Chr1A-B3-Hap3</th>\n",
       "      <th>Chr1A-B4-Hap1</th>\n",
       "      <th>...</th>\n",
       "      <th>Chr7D-B13-Hap3</th>\n",
       "      <th>AX-94616800</th>\n",
       "      <th>Chr7D-B14-Hap1</th>\n",
       "      <th>Chr7D-B14-Hap2</th>\n",
       "      <th>Chr7D-B14-Hap3</th>\n",
       "      <th>Chr7D-B15-Hap1</th>\n",
       "      <th>Chr7D-B15-Hap2</th>\n",
       "      <th>AX-95152265</th>\n",
       "      <th>AX-94653866</th>\n",
       "      <th>Chr7D-B16-Hap1</th>\n",
       "      <th>Chr7D-B16-Hap2</th>\n",
       "      <th>Chr7D-B17-Hap1</th>\n",
       "      <th>Taxa</th>\n",
       "      <th>Ambiente</th>\n",
       "      <th>FE</th>\n",
       "    </tr>\n",
       "  </thead>\n",
       "  <tbody>\n",
       "    <tr>\n",
       "      <th>0</th>\n",
       "      <td>1</td>\n",
       "      <td>0</td>\n",
       "      <td>0</td>\n",
       "      <td>0</td>\n",
       "      <td>0</td>\n",
       "      <td>0</td>\n",
       "      <td>0</td>\n",
       "      <td>1</td>\n",
       "      <td>0</td>\n",
       "      <td>0</td>\n",
       "      <td>0</td>\n",
       "      <td>1</td>\n",
       "      <td>0</td>\n",
       "      <td>0</td>\n",
       "      <td>1</td>\n",
       "      <td>...</td>\n",
       "      <td>0</td>\n",
       "      <td>0</td>\n",
       "      <td>1</td>\n",
       "      <td>0</td>\n",
       "      <td>0</td>\n",
       "      <td>1</td>\n",
       "      <td>0</td>\n",
       "      <td>1</td>\n",
       "      <td>1</td>\n",
       "      <td>1</td>\n",
       "      <td>0</td>\n",
       "      <td>1</td>\n",
       "      <td>55 CL 2</td>\n",
       "      <td>2</td>\n",
       "      <td>4.361951</td>\n",
       "    </tr>\n",
       "    <tr>\n",
       "      <th>1</th>\n",
       "      <td>1</td>\n",
       "      <td>0</td>\n",
       "      <td>0</td>\n",
       "      <td>0</td>\n",
       "      <td>0</td>\n",
       "      <td>0</td>\n",
       "      <td>0</td>\n",
       "      <td>1</td>\n",
       "      <td>0</td>\n",
       "      <td>0</td>\n",
       "      <td>0</td>\n",
       "      <td>1</td>\n",
       "      <td>0</td>\n",
       "      <td>0</td>\n",
       "      <td>1</td>\n",
       "      <td>...</td>\n",
       "      <td>0</td>\n",
       "      <td>0</td>\n",
       "      <td>1</td>\n",
       "      <td>0</td>\n",
       "      <td>0</td>\n",
       "      <td>1</td>\n",
       "      <td>0</td>\n",
       "      <td>1</td>\n",
       "      <td>1</td>\n",
       "      <td>1</td>\n",
       "      <td>0</td>\n",
       "      <td>1</td>\n",
       "      <td>55 CL 2</td>\n",
       "      <td>3</td>\n",
       "      <td>4.391977</td>\n",
       "    </tr>\n",
       "  </tbody>\n",
       "</table>\n",
       "<p>2 rows × 5014 columns</p>\n",
       "</div>"
      ],
      "text/plain": [
       "   Chr1A-B1-Hap1  Chr1A-B1-Hap2  Chr1A-B1-Hap3  Chr1A-B1-Hap4  Chr1A-B1-Hap5  \\\n",
       "0              1              0              0              0              0   \n",
       "1              1              0              0              0              0   \n",
       "\n",
       "   Chr1A-B1-Hap6  Chr1A-B1-Hap7  Chr1A-B2-Hap1  Chr1A-B2-Hap2  Chr1A-B2-Hap3  \\\n",
       "0              0              0              1              0              0   \n",
       "1              0              0              1              0              0   \n",
       "\n",
       "   Chr1A-B2-Hap4  Chr1A-B3-Hap1  Chr1A-B3-Hap2  Chr1A-B3-Hap3  Chr1A-B4-Hap1  \\\n",
       "0              0              1              0              0              1   \n",
       "1              0              1              0              0              1   \n",
       "\n",
       "     ...     Chr7D-B13-Hap3  AX-94616800  Chr7D-B14-Hap1  Chr7D-B14-Hap2  \\\n",
       "0    ...                  0            0               1               0   \n",
       "1    ...                  0            0               1               0   \n",
       "\n",
       "   Chr7D-B14-Hap3  Chr7D-B15-Hap1  Chr7D-B15-Hap2  AX-95152265  AX-94653866  \\\n",
       "0               0               1               0            1            1   \n",
       "1               0               1               0            1            1   \n",
       "\n",
       "   Chr7D-B16-Hap1  Chr7D-B16-Hap2  Chr7D-B17-Hap1     Taxa  Ambiente        FE  \n",
       "0               1               0               1  55 CL 2         2  4.361951  \n",
       "1               1               0               1  55 CL 2         3  4.391977  \n",
       "\n",
       "[2 rows x 5014 columns]"
      ]
     },
     "execution_count": 12,
     "metadata": {},
     "output_type": "execute_result"
    }
   ],
   "source": [
    "df = pd.read_csv('data/data.csv', sep=',')\n",
    "print(len(df.index))\n",
    "df.head(2)"
   ]
  },
  {
   "cell_type": "code",
   "execution_count": null,
   "metadata": {},
   "outputs": [],
   "source": []
  },
  {
   "cell_type": "code",
   "execution_count": 37,
   "metadata": {},
   "outputs": [],
   "source": [
    "X = df.drop('FE', axis=1).drop('Taxa', axis=1)\n",
    "y = df.FE\n"
   ]
  },
  {
   "cell_type": "code",
   "execution_count": 38,
   "metadata": {},
   "outputs": [],
   "source": [
    "le = preprocessing.LabelEncoder()\n",
    "le.fit(df.Taxa)\n",
    "df.Taxa = le.transform(df.Taxa) "
   ]
  },
  {
   "cell_type": "code",
   "execution_count": null,
   "metadata": {},
   "outputs": [],
   "source": []
  },
  {
   "cell_type": "code",
   "execution_count": 39,
   "metadata": {},
   "outputs": [],
   "source": [
    "X = df[['Taxa','Ambiente']]\n",
    "y = df.FE\n"
   ]
  },
  {
   "cell_type": "code",
   "execution_count": 40,
   "metadata": {},
   "outputs": [],
   "source": [
    "X_train, X_test , y_train, y_test = train_test_split(X, y)\n"
   ]
  },
  {
   "cell_type": "code",
   "execution_count": 41,
   "metadata": {},
   "outputs": [
    {
     "data": {
      "text/plain": [
       "(750, 250)"
      ]
     },
     "execution_count": 41,
     "metadata": {},
     "output_type": "execute_result"
    }
   ],
   "source": [
    "len(X_train.index), len(X_test.index)"
   ]
  },
  {
   "cell_type": "code",
   "execution_count": 42,
   "metadata": {},
   "outputs": [],
   "source": [
    "model = svm.SVR(kernel=\"rbf\")\n"
   ]
  },
  {
   "cell_type": "code",
   "execution_count": 43,
   "metadata": {},
   "outputs": [
    {
     "name": "stderr",
     "output_type": "stream",
     "text": [
      "/home/juan/Desktop/juan/bio/venv/lib/python3.6/site-packages/sklearn/svm/base.py:196: FutureWarning: The default value of gamma will change from 'auto' to 'scale' in version 0.22 to account better for unscaled features. Set gamma explicitly to 'auto' or 'scale' to avoid this warning.\n",
      "  \"avoid this warning.\", FutureWarning)\n"
     ]
    },
    {
     "data": {
      "text/plain": [
       "SVR(C=1.0, cache_size=200, coef0=0.0, degree=3, epsilon=0.1,\n",
       "  gamma='auto_deprecated', kernel='rbf', max_iter=-1, shrinking=True,\n",
       "  tol=0.001, verbose=False)"
      ]
     },
     "execution_count": 43,
     "metadata": {},
     "output_type": "execute_result"
    }
   ],
   "source": [
    "model.fit(X_train,y_train)\n"
   ]
  },
  {
   "cell_type": "code",
   "execution_count": 44,
   "metadata": {},
   "outputs": [
    {
     "data": {
      "text/plain": [
       "0.45689202799288053"
      ]
     },
     "execution_count": 44,
     "metadata": {},
     "output_type": "execute_result"
    }
   ],
   "source": [
    "model.score(X_test, y_test)\n"
   ]
  },
  {
   "cell_type": "code",
   "execution_count": null,
   "metadata": {},
   "outputs": [],
   "source": []
  },
  {
   "cell_type": "code",
   "execution_count": null,
   "metadata": {},
   "outputs": [],
   "source": []
  },
  {
   "cell_type": "code",
   "execution_count": null,
   "metadata": {},
   "outputs": [],
   "source": []
  },
  {
   "cell_type": "code",
   "execution_count": null,
   "metadata": {},
   "outputs": [],
   "source": []
  },
  {
   "cell_type": "code",
   "execution_count": null,
   "metadata": {},
   "outputs": [],
   "source": []
  },
  {
   "cell_type": "code",
   "execution_count": null,
   "metadata": {},
   "outputs": [],
   "source": []
  },
  {
   "cell_type": "code",
   "execution_count": null,
   "metadata": {},
   "outputs": [],
   "source": []
  },
  {
   "cell_type": "code",
   "execution_count": null,
   "metadata": {},
   "outputs": [],
   "source": []
  },
  {
   "cell_type": "code",
   "execution_count": null,
   "metadata": {},
   "outputs": [],
   "source": []
  },
  {
   "cell_type": "code",
   "execution_count": null,
   "metadata": {},
   "outputs": [],
   "source": []
  },
  {
   "cell_type": "code",
   "execution_count": null,
   "metadata": {},
   "outputs": [],
   "source": []
  },
  {
   "cell_type": "code",
   "execution_count": null,
   "metadata": {},
   "outputs": [],
   "source": []
  }
 ],
 "metadata": {
  "kernelspec": {
   "display_name": "Python 3",
   "language": "python",
   "name": "python3"
  },
  "language_info": {
   "codemirror_mode": {
    "name": "ipython",
    "version": 3
   },
   "file_extension": ".py",
   "mimetype": "text/x-python",
   "name": "python",
   "nbconvert_exporter": "python",
   "pygments_lexer": "ipython3",
   "version": "3.6.5"
  }
 },
 "nbformat": 4,
 "nbformat_minor": 2
}
